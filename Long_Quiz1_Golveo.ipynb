{
  "nbformat": 4,
  "nbformat_minor": 0,
  "metadata": {
    "colab": {
      "name": "Long Quiz1_Golveo",
      "provenance": [],
      "collapsed_sections": [],
      "authorship_tag": "ABX9TyMgmIjBuKeS5V9IpLuuKoCI",
      "include_colab_link": true
    },
    "kernelspec": {
      "name": "python3",
      "display_name": "Python 3"
    },
    "language_info": {
      "name": "python"
    }
  },
  "cells": [
    {
      "cell_type": "markdown",
      "metadata": {
        "id": "view-in-github",
        "colab_type": "text"
      },
      "source": [
        "<a href=\"https://colab.research.google.com/github/golveobryan/OOP-58002/blob/main/Long_Quiz1_Golveo.ipynb\" target=\"_parent\"><img src=\"https://colab.research.google.com/assets/colab-badge.svg\" alt=\"Open In Colab\"/></a>"
      ]
    },
    {
      "cell_type": "markdown",
      "source": [
        "Conversion of Celsius to Fahrenheit"
      ],
      "metadata": {
        "id": "NUps-SIRON9F"
      }
    },
    {
      "cell_type": "code",
      "execution_count": 3,
      "metadata": {
        "colab": {
          "base_uri": "https://localhost:8080/"
        },
        "id": "VnXEOEHoJzsd",
        "outputId": "10dc5c15-c404-4522-e607-f9addb547f41"
      },
      "outputs": [
        {
          "output_type": "stream",
          "name": "stdout",
          "text": [
            "Insert a Temperature in Celsius: 24\n",
            "75.2\n"
          ]
        }
      ],
      "source": [
        "class Temperature():\n",
        "  def __init__(self,Celsius):\n",
        "    self.Celsius = Celsius\n",
        "  \n",
        "  def Fahrenheit(self):\n",
        "    result = float((9 * self.Celsius) / 5 + 32)\n",
        "    return result\n",
        "\n",
        "\n",
        "input_Temperature = float(input(\"Insert a Temperature in Celsius: \"))\n",
        "Temperature1 = Temperature(input_Temperature)\n",
        "\n",
        "print(Temperature1.Fahrenheit())"
      ]
    }
  ]
}