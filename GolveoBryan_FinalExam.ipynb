{
  "nbformat": 4,
  "nbformat_minor": 0,
  "metadata": {
    "colab": {
      "name": "GolveoBryan_FinalExam.ipynb",
      "provenance": [],
      "authorship_tag": "ABX9TyP1aiNME9udFMQf8qXPJglD",
      "include_colab_link": true
    },
    "kernelspec": {
      "name": "python3",
      "display_name": "Python 3"
    },
    "language_info": {
      "name": "python"
    }
  },
  "cells": [
    {
      "cell_type": "markdown",
      "metadata": {
        "id": "view-in-github",
        "colab_type": "text"
      },
      "source": [
        "<a href=\"https://colab.research.google.com/github/golveobryan/OOP-58002/blob/main/GolveoBryan_FinalExam.ipynb\" target=\"_parent\"><img src=\"https://colab.research.google.com/assets/colab-badge.svg\" alt=\"Open In Colab\"/></a>"
      ]
    },
    {
      "cell_type": "markdown",
      "source": [
        " Convert the above TUI Python program to a GUI form"
      ],
      "metadata": {
        "id": "RG97hi9P1f0v"
      }
    },
    {
      "cell_type": "code",
      "source": [
        "def main():\n",
        "    # Find the least number among three numbers\n",
        "    L = []\n",
        "    num1 = eval(input(\"Enter the first number:\"))\n",
        "    L.append(num1)\n",
        "    num2 = eval(input(\"Enter the second number:\"))\n",
        "    L.append(num2)\n",
        "    num3 = eval(input(\"Enter the third number:\"))\n",
        "    L.append(num3)\n",
        "    print(\"The smallest number among the three is:\",str(min(L)))\n",
        "main()\n",
        "\n",
        "from tkinter import *\n",
        "\n",
        "window = Tk()\n",
        "window.title(\"Find the smallest number\")\n",
        "window.geometry(\"500x400+20+10\")\n",
        "\n",
        "def findsmallest():\n",
        "    S = []\n",
        "    S.append(eval(conOfent2.get()))\n",
        "    S.append(eval(conOfent3.get()))\n",
        "    S.append(eval(conOfent4.get()))\n",
        "    conOfLargest.set(max(S))\n",
        "\n",
        "lbl1 = Label(window, text = \"The Program that Finds the smallest Number\")\n",
        "lbl1.grid(row=0, column=1, columnspan=2,sticky=EW)\n",
        "lbl2 = Label(window,text = \"Enter the first number:\")\n",
        "lbl2.grid(row=1, column = 0,sticky=W)\n",
        "conOfent2 = StringVar()\n",
        "ent2 = Entry(window,bd=3,textvariable=conOfent2)\n",
        "ent2.grid(row=1, column = 1)\n",
        "lbl3 = Label(window,text = \"Enter the second number:\")\n",
        "lbl3.grid(row=2, column=0)\n",
        "conOfent3=StringVar()\n",
        "ent3 = Entry(window,bd=3,textvariable=conOfent3)\n",
        "ent3.grid(row=2,column=1)\n",
        "lbl4 = Label(window,text=\"Enter the third number:\")\n",
        "lbl4.grid(row=3,column =0, sticky=W)\n",
        "conOfent4 = StringVar()\n",
        "ent4 = Entry(window,bd=3,textvariable=conOfent4)\n",
        "ent4.grid(row=3, column=1)\n",
        "\n",
        "btn1 = Button(window,text = \"Find the smallest no.\",command=findsmallest)\n",
        "btn1.grid(row=4, column = 1)\n",
        "lbl5 = Label(window,text=\"The smallest number:\")\n",
        "lbl5.grid(row=5,column=0,sticky=W)\n",
        "conOfLargest = StringVar()\n",
        "ent5 = Entry(window,bd=3,state=\"readonly\",textvariable=conOfLargest)\n",
        "ent5.grid(row=5,column=1)\n",
        "\n",
        "\n",
        "mainloop()\n"
      ],
      "metadata": {
        "id": "oW7dNI089zrb"
      },
      "execution_count": null,
      "outputs": []
    }
  ]
}