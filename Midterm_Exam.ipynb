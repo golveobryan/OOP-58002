{
  "nbformat": 4,
  "nbformat_minor": 0,
  "metadata": {
    "colab": {
      "name": "Midterm Exam.ipynb",
      "provenance": [],
      "authorship_tag": "ABX9TyPptScUBuP5Ge4w00MmKsUr",
      "include_colab_link": true
    },
    "kernelspec": {
      "name": "python3",
      "display_name": "Python 3"
    },
    "language_info": {
      "name": "python"
    }
  },
  "cells": [
    {
      "cell_type": "markdown",
      "metadata": {
        "id": "view-in-github",
        "colab_type": "text"
      },
      "source": [
        "<a href=\"https://colab.research.google.com/github/golveobryan/OOP-58002/blob/main/Midterm_Exam.ipynb\" target=\"_parent\"><img src=\"https://colab.research.google.com/assets/colab-badge.svg\" alt=\"Open In Colab\"/></a>"
      ]
    },
    {
      "cell_type": "markdown",
      "source": [
        "Program 1: Modify the program below by adding two conversion methods - Fahrenheit to Celsius and Kelvin to Celsius (50 points)\n",
        "\n",
        "\n",
        "\n",
        "def main():\n",
        "\n",
        "  \n",
        "\n",
        " class TemperatureConversion:\n",
        "\n",
        "  def __init__(self, temp=1):\n",
        "\n",
        "   self._temp = temp\n",
        "\n",
        " class CelsiusToFahrenheit(TemperatureConversion):\n",
        "\n",
        "  def conversion(self):\n",
        "\n",
        "   return (self._temp * 9) / 5 + 32\n",
        "\n",
        " class CelsiusToKelvin(TemperatureConversion):\n",
        "\n",
        "  def conversion(self):\n",
        "\n",
        "   return self._temp + 273.15\n",
        "\n",
        " tempInCelsius = float(input(\"Enter the temperature in Celsius: \"))\n",
        "\n",
        " convert = CelsiusToKelvin(tempInCelsius)\n",
        "\n",
        " print(str(convert.conversion()) + \" Kelvin\")\n",
        "\n",
        " convert = CelsiusToFahrenheit(tempInCelsius)\n",
        "\n",
        " print(str(convert.conversion()) + \" Fahrenheit\")\n",
        "\n",
        "\n",
        "\n",
        "main()"
      ],
      "metadata": {
        "id": "cHqOU3Iaad4z"
      }
    },
    {
      "cell_type": "code",
      "source": [
        "def main():\n",
        "\n",
        "  \n",
        "\n",
        " class TemperatureConversion:\n",
        "\n",
        "  def __init__(self, temp=1):\n",
        "\n",
        "   self._temp = temp\n",
        "\n",
        " class CelsiusToFahrenheit(TemperatureConversion):\n",
        "\n",
        "  def conversion(self):\n",
        "\n",
        "   return (self._temp - 32)*5/9\n",
        "\n",
        " class CelsiusToKelvin(TemperatureConversion):\n",
        "\n",
        "  def conversion(self):\n",
        "\n",
        "   return self._temp - 273.15\n",
        "\n",
        " tempInCelsius = float(input(\"Enter the temperature in Fahrenheit: \"))\n",
        "\n",
        " convert = CelsiusToKelvin(tempInCelsius)\n",
        "\n",
        " print(str(convert.conversion()) + \" Kelvin\")\n",
        "\n",
        " convert = CelsiusToFahrenheit(tempInCelsius)\n",
        "\n",
        " print(str(convert.conversion()) + \" Fahrenheit\")\n",
        "\n",
        "\n",
        "\n",
        "main()"
      ],
      "metadata": {
        "id": "UY2GHcpNpl1j"
      },
      "execution_count": null,
      "outputs": []
    }
  ]
}