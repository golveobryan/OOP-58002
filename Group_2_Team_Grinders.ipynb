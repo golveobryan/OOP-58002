{
  "nbformat": 4,
  "nbformat_minor": 0,
  "metadata": {
    "colab": {
      "name": "Group 2:Team Grinders.ipynb",
      "provenance": [],
      "authorship_tag": "ABX9TyO25HuicJbylqzyW4eCAvsa",
      "include_colab_link": true
    },
    "kernelspec": {
      "name": "python3",
      "display_name": "Python 3"
    },
    "language_info": {
      "name": "python"
    }
  },
  "cells": [
    {
      "cell_type": "markdown",
      "metadata": {
        "id": "view-in-github",
        "colab_type": "text"
      },
      "source": [
        "<a href=\"https://colab.research.google.com/github/golveobryan/OOP-58002/blob/main/Group_2_Team_Grinders.ipynb\" target=\"_parent\"><img src=\"https://colab.research.google.com/assets/colab-badge.svg\" alt=\"Open In Colab\"/></a>"
      ]
    },
    {
      "cell_type": "markdown",
      "source": [
        "Label"
      ],
      "metadata": {
        "id": "QmrNlxfNscqV"
      }
    },
    {
      "cell_type": "code",
      "source": [
        "from tkinter import *\n",
        "win = Tk()\n",
        "win.geometry(\"300x200+10+20\")\n",
        "win.title('Label')\n",
        "\n",
        "#1\n",
        "lbl = Label(win,text = \"Laboratory Activity 5 \\n Submitted to: Mam Sayo\")\n",
        "lbl.place(x=80, y=30)\n",
        "\n",
        "#2\n",
        "txtfld = Entry(win, font= \"Bold\")\n",
        "\n",
        "\n",
        "win.mainloop()"
      ],
      "metadata": {
        "id": "k-tdpEvHs6ot"
      },
      "execution_count": null,
      "outputs": []
    },
    {
      "cell_type": "markdown",
      "source": [
        "Text Field"
      ],
      "metadata": {
        "id": "szSyegR0s708"
      }
    },
    {
      "cell_type": "code",
      "source": [
        "from tkinter import *\n",
        "from tkinter import ttk\n",
        "\n",
        "win = Tk()\n",
        "win.geometry(\"390x120+10+20\")\n",
        "win.title(\"Text Field\")\n",
        "\n",
        "# text field\n",
        "t = Text(win, width= 28, height = 3)\n",
        "t.place(x=80, y=30)\n",
        "\n",
        "win.mainloop()"
      ],
      "metadata": {
        "id": "r4eqeKhatBD1"
      },
      "execution_count": null,
      "outputs": []
    },
    {
      "cell_type": "markdown",
      "source": [
        "Father of Computer"
      ],
      "metadata": {
        "id": "UVh9KdcmvoE6"
      }
    },
    {
      "cell_type": "code",
      "source": [
        "from tkinter import *\n",
        "win = Tk()\n",
        "win.geometry(\"300x200+10+20\")\n",
        "win.title('Father of Computer')\n",
        "\n",
        "#1\n",
        "fthr = Label(win,text = \"Charles Babbage\",font='Italic', bg = \"cyan\")\n",
        "fthr.place(x=60, y=80)\n",
        "\n",
        "win.mainloop()"
      ],
      "metadata": {
        "id": "IcHgAekqvxOF"
      },
      "execution_count": null,
      "outputs": []
    },
    {
      "cell_type": "markdown",
      "source": [
        "Major Subjects"
      ],
      "metadata": {
        "id": "bGkNbCfJv2q9"
      }
    },
    {
      "cell_type": "code",
      "source": [
        "from tkinter import *\n",
        "from tkinter import ttk\n",
        "\n",
        "win = Tk()\n",
        "win.geometry(\"330x105+10+20\")\n",
        "win.title(\"Major Subjects\")\n",
        "\n",
        "lstbx = Listbox(win, selectmode= 'single', height=5)\n",
        "data = \"reading\"\n",
        "data1 = \"writing\"\n",
        "data2 = \"arithmetic\"\n",
        "data3 = \"coding\"\n",
        "lstbx.insert(END,data)\n",
        "lstbx.insert(END,data1)\n",
        "lstbx.insert(END,data2)\n",
        "lstbx.insert(END,data3)\n",
        "lstbx.place(x=100, y=10)\n",
        "\n",
        "win.mainloop()"
      ],
      "metadata": {
        "id": "H7emMFSDv_Ff"
      },
      "execution_count": null,
      "outputs": []
    },
    {
      "cell_type": "markdown",
      "source": [
        "Button"
      ],
      "metadata": {
        "id": "lnHtl7OmwJlu"
      }
    },
    {
      "cell_type": "code",
      "source": [
        "from tkinter import *\n",
        "from tkinter import ttk\n",
        "\n",
        "win = Tk()\n",
        "win.geometry(\"390x180+10+20\")\n",
        "win.title(\"Welcome to Python Programming\")\n",
        "\n",
        "\n",
        "# Button widgets\n",
        "btn = Button(win,text = \"Color\", fg = \"Red\", bg = \"blue\", activebackground=\"Yellow\", activeforeground= \"red\" )\n",
        "btn.place(x=80, y=120)\n",
        "btn = Button(win,text = \"<---CLick to change the color of the button\")\n",
        "btn.place(x=130, y=120)\n",
        "win.mainloop()"
      ],
      "metadata": {
        "id": "fm4SRbpcwQPA"
      },
      "execution_count": null,
      "outputs": []
    }
  ]
}