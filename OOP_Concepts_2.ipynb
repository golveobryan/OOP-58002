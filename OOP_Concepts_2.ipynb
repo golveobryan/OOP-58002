{
  "nbformat": 4,
  "nbformat_minor": 0,
  "metadata": {
    "colab": {
      "name": "OOP Concepts_2.ipynb",
      "provenance": [],
      "authorship_tag": "ABX9TyMhPFBKSudd0vJ58kXGdA76",
      "include_colab_link": true
    },
    "kernelspec": {
      "name": "python3",
      "display_name": "Python 3"
    },
    "language_info": {
      "name": "python"
    }
  },
  "cells": [
    {
      "cell_type": "markdown",
      "metadata": {
        "id": "view-in-github",
        "colab_type": "text"
      },
      "source": [
        "<a href=\"https://colab.research.google.com/github/golveobryan/OOP-58002/blob/main/OOP_Concepts_2.ipynb\" target=\"_parent\"><img src=\"https://colab.research.google.com/assets/colab-badge.svg\" alt=\"Open In Colab\"/></a>"
      ]
    },
    {
      "cell_type": "markdown",
      "source": [
        "Class with Multiple Objects"
      ],
      "metadata": {
        "id": "IFpPyjxLFeMB"
      }
    },
    {
      "cell_type": "code",
      "source": [
        "class Birds:\n",
        "  def __init__(self,bird_name):\n",
        "    self.bird_name = bird_name\n",
        "  def flying_birds(self):\n",
        "    print(f\"{self.bird_name} flies above clouds\")\n",
        "  def non_flying_birds(self):\n",
        "    print(f\"{self.bird_name} is the national bird of the Philippines\")\n",
        "  \n",
        "vulture = Birds(\"Griffon Vulture\")\n",
        "crane = Birds(\"Common Crane\")\n",
        "emu = Birds (\"Emu\")\n",
        "\n",
        "vulture.flying_birds()\n",
        "crane.flying_birds()\n",
        "emu.non_flying_birds()"
      ],
      "metadata": {
        "colab": {
          "base_uri": "https://localhost:8080/"
        },
        "id": "9PCCs_JVFf0p",
        "outputId": "b36a05a4-7cdd-44db-ad80-4567073754d3"
      },
      "execution_count": 1,
      "outputs": [
        {
          "output_type": "stream",
          "name": "stdout",
          "text": [
            "Griffon Vulture flies above clouds\n",
            "Common Crane flies above clouds\n",
            "Emu is the national bird of the Philippines\n"
          ]
        }
      ]
    },
    {
      "cell_type": "markdown",
      "source": [
        "Encapsulation with Private Attributes"
      ],
      "metadata": {
        "id": "Ch9sJf_xGY5o"
      }
    },
    {
      "cell_type": "code",
      "source": [
        "class foo:\n",
        "  def __init__(self,a,b):\n",
        "    self._a = a\n",
        "    self._b = b\n",
        "  def add(self):\n",
        "    return self._a +self._b\n",
        "foo_object = foo(3,4)\n",
        "#foo_object.add()\n",
        "\n",
        "foo_object.a=6\n",
        "foo_object.add()"
      ],
      "metadata": {
        "colab": {
          "base_uri": "https://localhost:8080/"
        },
        "id": "6Ddca6X2GbF4",
        "outputId": "0658110b-7bba-4d69-a843-2f4b84e62bdb"
      },
      "execution_count": 2,
      "outputs": [
        {
          "output_type": "execute_result",
          "data": {
            "text/plain": [
              "7"
            ]
          },
          "metadata": {},
          "execution_count": 2
        }
      ]
    },
    {
      "cell_type": "markdown",
      "source": [
        "Encapsulation by mangling with double underscores"
      ],
      "metadata": {
        "id": "Axx_KP6QGffp"
      }
    },
    {
      "cell_type": "code",
      "source": [
        "class Counter:\n",
        "  def __init__(self):\n",
        "    self.__current = 0\n",
        "\n",
        "  def increment(self):\n",
        "    self.__current += 1\n",
        "  \n",
        "  def value(self):\n",
        "    return self.__current\n",
        "\n",
        "  def reset(self):\n",
        "    self.__current = 0\n",
        "counter = Counter()\n",
        "\n",
        "#counter.increment()\n",
        "#counter.increment()\n",
        "#counter.increment()\n",
        "\n",
        "print(counter.__current)\n",
        "#print(counter.value())"
      ],
      "metadata": {
        "colab": {
          "base_uri": "https://localhost:8080/",
          "height": 226
        },
        "id": "uF2Tx25vGi9A",
        "outputId": "581c65ee-3860-4dbb-ec72-7d5a4bc49e66"
      },
      "execution_count": 4,
      "outputs": [
        {
          "output_type": "error",
          "ename": "AttributeError",
          "evalue": "ignored",
          "traceback": [
            "\u001b[0;31m---------------------------------------------------------------------------\u001b[0m",
            "\u001b[0;31mAttributeError\u001b[0m                            Traceback (most recent call last)",
            "\u001b[0;32m<ipython-input-4-ce1b299e60a8>\u001b[0m in \u001b[0;36m<module>\u001b[0;34m()\u001b[0m\n\u001b[1;32m     17\u001b[0m \u001b[0;31m#counter.increment()\u001b[0m\u001b[0;34m\u001b[0m\u001b[0;34m\u001b[0m\u001b[0;34m\u001b[0m\u001b[0m\n\u001b[1;32m     18\u001b[0m \u001b[0;34m\u001b[0m\u001b[0m\n\u001b[0;32m---> 19\u001b[0;31m \u001b[0mprint\u001b[0m\u001b[0;34m(\u001b[0m\u001b[0mcounter\u001b[0m\u001b[0;34m.\u001b[0m\u001b[0m__current\u001b[0m\u001b[0;34m)\u001b[0m\u001b[0;34m\u001b[0m\u001b[0;34m\u001b[0m\u001b[0m\n\u001b[0m\u001b[1;32m     20\u001b[0m \u001b[0;31m#print(counter.value())\u001b[0m\u001b[0;34m\u001b[0m\u001b[0;34m\u001b[0m\u001b[0;34m\u001b[0m\u001b[0m\n",
            "\u001b[0;31mAttributeError\u001b[0m: 'Counter' object has no attribute '__current'"
          ]
        }
      ]
    },
    {
      "cell_type": "markdown",
      "source": [
        "Inheritance"
      ],
      "metadata": {
        "id": "mulSGkbAGvVZ"
      }
    },
    {
      "cell_type": "code",
      "source": [
        "class Person:\n",
        "  def __init__(self,fname,sname):\n",
        "    self.fname = fname\n",
        "    self.sname = sname\n",
        "  def printname(self):\n",
        "    print(self.fname,self.sname)\n",
        "\n",
        "x = Person(\"Bryan\",\"Golveo\")\n",
        "x.printname()\n",
        "\n",
        "class Teacher(Person):\n",
        "  pass\n",
        "\n",
        "x = Teacher(\"Rizette\", \"Sayo\")\n",
        "x.printname()"
      ],
      "metadata": {
        "colab": {
          "base_uri": "https://localhost:8080/"
        },
        "id": "5KHNolvUGyrI",
        "outputId": "13435606-05b1-4601-b3e8-9a7ed8aada62"
      },
      "execution_count": 5,
      "outputs": [
        {
          "output_type": "stream",
          "name": "stdout",
          "text": [
            "Bryan Golveo\n",
            "Rizette Sayo\n"
          ]
        }
      ]
    },
    {
      "cell_type": "markdown",
      "source": [
        "Polymorphism"
      ],
      "metadata": {
        "id": "aNsyUTdkHB95"
      }
    },
    {
      "cell_type": "code",
      "source": [
        "class RegularPolygon:\n",
        "  def __init__(self,side):\n",
        "    self._side = side\n",
        "class Square(RegularPolygon):\n",
        "  def area(self):\n",
        "    return self._side * self._side\n",
        "class EquilateralTriangle(RegularPolygon):\n",
        "  def area(self):\n",
        "    return self._side * self._side * 0.433\n",
        "\n",
        "obj1 = Square(4)\n",
        "obj2 = EquilateralTriangle(3)\n",
        "\n",
        "obj1.area()\n",
        "obj2.area()"
      ],
      "metadata": {
        "colab": {
          "base_uri": "https://localhost:8080/"
        },
        "id": "ZKI91CCaHDdK",
        "outputId": "0b1bb573-8785-4a06-f92c-dc85ac395759"
      },
      "execution_count": 6,
      "outputs": [
        {
          "output_type": "execute_result",
          "data": {
            "text/plain": [
              "3.897"
            ]
          },
          "metadata": {},
          "execution_count": 6
        }
      ]
    },
    {
      "cell_type": "markdown",
      "source": [
        "Application 1 - 30% Prelims, 30% Midterms, 40% Final = Sem Grade"
      ],
      "metadata": {
        "id": "kejvAVX1HJb6"
      }
    },
    {
      "cell_type": "markdown",
      "source": [
        "\n",
        "\n",
        "* Create a Python program that displays the name of 3 students (Student 1, Student 2, Student 3) and their grades\n",
        "* Create a class name \"Person\" and attributes - std1, std2, std3, pre, mid, fin\n",
        "\n",
        "\n",
        "*   Compute for the average grade of each term using Grade() method\n",
        "*  Information about student's grades must be hidden from others\n",
        "\n",
        "\n",
        "\n"
      ],
      "metadata": {
        "id": "oKLHp_rSHM0B"
      }
    },
    {
      "cell_type": "code",
      "source": [
        "#Application 1\n",
        "class Person:\n",
        "  def __init__(self,std1,std2,std3,pre,mid,fin):\n",
        "    self._std1 = std1\n",
        "    self._std2 = std2\n",
        "    self._std3 = std3\n",
        "    self._pre = pre\n",
        "    self._mid = mid\n",
        "    self._fin = fin\n",
        "\n",
        "  def Grade(self):\n",
        "    print(\"_______________________________\")\n",
        "    print(\"Student Name =\", self._std1, self._std2, self._std3)\n",
        "    print(\"_______________________________\")\n",
        "    print(\"Prelim Grade =\", int(self._pre))\n",
        "    print(\"Midterm Grade =\", int(self._mid)) \n",
        "    print(\"Final Grade =\", int(self._fin))  \n",
        "    print(\"_______________________________\")\n",
        "    print(\"Semestral Grade =\", int(self._pre*.30) + int(self._mid*.30) + int(self._fin*.40))  \n",
        "   \n",
        "  \n",
        "student1 = Person(\"Denver\",\"\",\"\", 91, 93, 95.50)\n",
        "student2 = Person(\"\",\"Helsinki\",\"\", 85, 87, 89)\n",
        "student3 = Person(\"\",\"\",\"Berlin\", 88, 90, 92)\n",
        "\n",
        "name = input(str(\"Enter your Last name: \"))\n",
        "\n",
        "if name == \"Denver\" or name == \"Denver\":\n",
        "  student1.Grade()\n",
        "elif name == \"Helsinki\" or name == \"Helsinki\":\n",
        "  student2.Grade()\n",
        "elif name == \"Berlin\" or name == \"Berlin\":\n",
        "  student3.Grade()\n",
        "else:\n",
        "  print(\"\\n!!No Database for this Student!!\")"
      ],
      "metadata": {
        "id": "sOc3ammwVFdp"
      },
      "execution_count": null,
      "outputs": []
    }
  ]
}