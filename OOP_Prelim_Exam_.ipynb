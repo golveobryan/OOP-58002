{
  "nbformat": 4,
  "nbformat_minor": 0,
  "metadata": {
    "colab": {
      "name": "OOP Prelim Exam.",
      "provenance": [],
      "authorship_tag": "ABX9TyPi22vm5qCgYZls+QXNBxzv",
      "include_colab_link": true
    },
    "kernelspec": {
      "name": "python3",
      "display_name": "Python 3"
    },
    "language_info": {
      "name": "python"
    }
  },
  "cells": [
    {
      "cell_type": "markdown",
      "metadata": {
        "id": "view-in-github",
        "colab_type": "text"
      },
      "source": [
        "<a href=\"https://colab.research.google.com/github/golveobryan/OOP-58002/blob/main/OOP_Prelim_Exam_.ipynb\" target=\"_parent\"><img src=\"https://colab.research.google.com/assets/colab-badge.svg\" alt=\"Open In Colab\"/></a>"
      ]
    },
    {
      "cell_type": "markdown",
      "source": [
        "*   Write a Python to display your full name, student number, age, and course\n",
        "*   Create a class named Student with attributes: Name, Student_No, Age, School, and Course\n",
        "\n",
        "\n",
        "*   Create an object name Myself and assign an instance for each attribute.\n",
        "*   Create a method Self () using an instantiation of a class.\n",
        "\n",
        "*   Insert your GitHub link \"Prelim Exam\" from your repository named \"OOP 58002\"\n",
        "\n",
        "\n",
        "\n"
      ],
      "metadata": {
        "id": "geNHl7VjGZOr"
      }
    },
    {
      "cell_type": "code",
      "execution_count": 10,
      "metadata": {
        "id": "KdIx9WuKF1pJ",
        "colab": {
          "base_uri": "https://localhost:8080/"
        },
        "outputId": "68a7fa92-70b0-4b3a-bfda-380e860edd43"
      },
      "outputs": [
        {
          "output_type": "stream",
          "name": "stdout",
          "text": [
            "My name is Golveo, Bryan D. i'm 27  and my student_no is 202150706 im currently studying in Adamson University and I am taking Computer Engineering\n"
          ]
        }
      ],
      "source": [
        "class Student:\n",
        "  def __init__(self,name,student_no,age,school,course):\n",
        "    self.name = name\n",
        "    self.student_no = student_no\n",
        "    self.age = age\n",
        "    self.school = school\n",
        "    self.course = course\n",
        "  \n",
        "  def myFunction(self):\n",
        "    print(\"My name is\",self.name,\"i'm\",self.age, \" and my student_no is\",self.student_no, \"im currently studying in\", self.school, \"and I am taking\", self.course)\n",
        "\n",
        "s1= Student(\"Golveo, Bryan D.\",202150706,27, \"Adamson University\", \"Computer Engineering\")\n",
        "s1.myFunction()"
      ]
    }
  ]
}